{
 "cells": [
  {
   "cell_type": "markdown",
   "id": "95241cef",
   "metadata": {},
   "source": [
    "### Step 1: Importing Dataset "
   ]
  },
  {
   "cell_type": "code",
   "execution_count": 20,
   "id": "da765c0e",
   "metadata": {},
   "outputs": [],
   "source": [
    "import sklearn\n",
    "from sklearn.datasets import load_breast_cancer\n",
    "data = load_breast_cancer()"
   ]
  },
  {
   "cell_type": "code",
   "execution_count": 10,
   "id": "d6c0cd49",
   "metadata": {},
   "outputs": [],
   "source": [
    "label_names = data['target_names']\n",
    "labels = data['target']\n",
    "feature_names = data['feature_names']\n",
    "features = data['data']"
   ]
  },
  {
   "cell_type": "code",
   "execution_count": null,
   "id": "ec3ab2ac",
   "metadata": {},
   "outputs": [],
   "source": [
    "print(label_names)"
   ]
  },
  {
   "cell_type": "markdown",
   "id": "fe609af0",
   "metadata": {},
   "source": [
    "### Step 2: Organizing Data into Sets\n"
   ]
  },
  {
   "cell_type": "code",
   "execution_count": 15,
   "id": "246a4f65",
   "metadata": {},
   "outputs": [],
   "source": [
    "from sklearn.model_selection import train_test_split"
   ]
  },
  {
   "cell_type": "code",
   "execution_count": 16,
   "id": "3ebef8a6",
   "metadata": {},
   "outputs": [],
   "source": [
    "# Split our data\n",
    "\n",
    "train, test, train_labels, test_labels = train_test_split(features, labels, test_size=0.33, random_state=42)"
   ]
  },
  {
   "cell_type": "markdown",
   "id": "336b6e35",
   "metadata": {},
   "source": [
    "### Step3: Building and Evaluating the Model"
   ]
  },
  {
   "cell_type": "code",
   "execution_count": 17,
   "id": "311756f8",
   "metadata": {},
   "outputs": [],
   "source": [
    "# we will focus on a simple algorithm that usually performs well in binary classification tasks,namely Naive Bayes (NB)\n",
    "from sklearn.naive_bayes import GaussianNB\n",
    "\n",
    "# Initialize our classifier\n",
    "gnb = GaussianNB()\n",
    "\n",
    "# Train our classifier\n",
    "model = gnb.fit(train, train_labels)\n",
    "                "
   ]
  },
  {
   "cell_type": "code",
   "execution_count": 18,
   "id": "04bfc021",
   "metadata": {},
   "outputs": [
    {
     "name": "stdout",
     "output_type": "stream",
     "text": [
      "[1 0 0 1 1 0 0 0 1 1 1 0 1 0 1 0 1 1 1 0 1 1 0 1 1 1 1 1 1 0 1 1 1 1 1 1 0\n",
      " 1 0 1 1 0 1 1 1 1 1 1 1 1 0 0 1 1 1 1 1 0 0 1 1 0 0 1 1 1 0 0 1 1 0 0 1 0\n",
      " 1 1 1 1 1 1 0 1 1 0 0 0 0 0 1 1 1 1 1 1 1 1 0 0 1 0 0 1 0 0 1 1 1 0 1 1 0\n",
      " 1 1 0 0 0 1 1 1 0 0 1 1 0 1 0 0 1 1 0 0 0 1 1 1 0 1 1 0 0 1 0 1 1 0 1 0 0\n",
      " 1 1 1 1 1 1 1 0 0 1 1 1 1 1 1 1 1 1 1 1 1 0 0 1 1 0 1 1 0 1 1 1 1 1 1 0 0\n",
      " 0 1 1]\n"
     ]
    }
   ],
   "source": [
    "# Make predictions\n",
    "\n",
    "preds = gnb.predict(test)\n",
    "print(preds)"
   ]
  },
  {
   "cell_type": "markdown",
   "id": "8813e57e",
   "metadata": {},
   "source": [
    "### Step 4: Evaluating the Model’s Accuracy"
   ]
  },
  {
   "cell_type": "code",
   "execution_count": 19,
   "id": "9bf79bcf",
   "metadata": {},
   "outputs": [
    {
     "name": "stdout",
     "output_type": "stream",
     "text": [
      "0.9414893617021277\n"
     ]
    }
   ],
   "source": [
    "# We will use the sklearn function accuracy_score() to determine the accuracy of our machine learning classifier.\n",
    "\n",
    "from sklearn.metrics import accuracy_score\n",
    "\n",
    "# Evaluate accuracy\n",
    "print(accuracy_score(test_labels, preds))"
   ]
  },
  {
   "cell_type": "code",
   "execution_count": null,
   "id": "1033830e",
   "metadata": {},
   "outputs": [],
   "source": []
  }
 ],
 "metadata": {
  "kernelspec": {
   "display_name": "Python 3 (ipykernel)",
   "language": "python",
   "name": "python3"
  },
  "language_info": {
   "codemirror_mode": {
    "name": "ipython",
    "version": 3
   },
   "file_extension": ".py",
   "mimetype": "text/x-python",
   "name": "python",
   "nbconvert_exporter": "python",
   "pygments_lexer": "ipython3",
   "version": "3.9.7"
  }
 },
 "nbformat": 4,
 "nbformat_minor": 5
}
